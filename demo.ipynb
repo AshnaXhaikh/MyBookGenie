{
 "cells": [
  {
   "cell_type": "code",
   "execution_count": null,
   "id": "c0b9440c",
   "metadata": {},
   "outputs": [],
   "source": [
    "import asyncio\n",
    "from langchain_community.document_loaders import PyPDFLoader"
   ]
  },
  {
   "cell_type": "code",
   "execution_count": null,
   "id": "f3fe0846",
   "metadata": {},
   "outputs": [],
   "source": [
    "file_paths = [\n",
    "    \"data/Eat-That-Frog.pdf\",\n",
    "    \"data/Master_your_Time.pdf\",\n",
    "    \"data/The-7-habits-of-highly-effective-people.pdf\",\n",
    "    \"data/Atomic_habits\"\n",
    "]\n",
    "\n",
    "async def load_all_pdfs(file_paths):\n",
    "    pages = []\n",
    "    for file_path in file_paths:\n",
    "        loader = PyPDFLoader(file_path)\n",
    "        async for page in loader.alazy_load():\n",
    "            pages.append(page)\n",
    "    return pages\n",
    "\n",
    "\n"
   ]
  },
  {
   "cell_type": "code",
   "execution_count": null,
   "id": "767350f3",
   "metadata": {},
   "outputs": [],
   "source": [
    "# Run the async function\n",
    "pages = await load_all_pdfs(file_paths)"
   ]
  },
  {
   "cell_type": "code",
   "execution_count": null,
   "id": "04bcc140",
   "metadata": {},
   "outputs": [],
   "source": [
    "pages"
   ]
  },
  {
   "cell_type": "markdown",
   "id": "5b982033",
   "metadata": {},
   "source": [
    "# In general, asynchronous -- from Greek asyn- (\"not with/together\") and chronos (\"time\") -- describes objects or events not coordinated in time."
   ]
  },
  {
   "cell_type": "code",
   "execution_count": null,
   "metadata": {},
   "outputs": [],
   "source": [
    "\n",
    "print(pages[5].page_content)"
   ]
  },
  {
   "cell_type": "code",
   "execution_count": null,
   "id": "b9705aee",
   "metadata": {},
   "outputs": [],
   "source": [
    "from langchain.text_splitter import RecursiveCharacterTextSplitter"
   ]
  },
  {
   "cell_type": "code",
   "execution_count": null,
   "id": "8e0e76c5",
   "metadata": {},
   "outputs": [],
   "source": [
    "text_splitter = RecursiveCharacterTextSplitter(\n",
    "    chunk_size=1000,\n",
    "    chunk_overlap=200,\n",
    ")\n",
    "docs = text_splitter.split_documents(pages)\n",
    "print(f'Total numberof chunks: {len(docs)}')"
   ]
  },
  {
   "cell_type": "code",
   "execution_count": null,
   "id": "f0677bee",
   "metadata": {},
   "outputs": [],
   "source": [
    "print('The ability to \\nconcentrate single-mindedly on your most important task, to do it \\nwell and to finish it completely, is the key to great success, \\nachievement, respect, status and happiness in life')"
   ]
  },
  {
   "cell_type": "code",
   "execution_count": null,
   "id": "00c532fb",
   "metadata": {},
   "outputs": [],
   "source": [
    "print(\"Guaranteed. \\nThere will be no limit to what you can accomplish when you learn \\nhow to “Eat That Frog!” \\t (Brian Tracy)\")"
   ]
  },
  {
   "cell_type": "code",
   "execution_count": null,
   "id": "b384c63c",
   "metadata": {},
   "outputs": [],
   "source": [
    "len(pages), len(docs)"
   ]
  },
  {
   "cell_type": "markdown",
   "id": "9a6d5b8c",
   "metadata": {},
   "source": [
    "# Load the Generated Embeddings"
   ]
  },
  {
   "cell_type": "code",
   "execution_count": null,
   "id": "59dba558",
   "metadata": {},
   "outputs": [],
   "source": [
    "from langchain.vectorstores import FAISS\n",
    "from langchain.embeddings import SentenceTransformerEmbeddings"
   ]
  },
  {
   "cell_type": "code",
   "execution_count": null,
   "id": "97f3d061",
   "metadata": {},
   "outputs": [],
   "source": [
    "# Create the same embeddings object as used in the FAISS index\n",
    "embedding = SentenceTransformerEmbeddings(model_name='all-MiniLM-L6-v2')\n",
    "\n",
    "# Load the FAISS index from the file\n",
    "vectorstore = FAISS.load_local('my_faiss_index', embedding, allow_dangerous_deserialization=True)"
   ]
  },
  {
   "cell_type": "code",
   "execution_count": null,
   "id": "efb90900",
   "metadata": {},
   "outputs": [],
   "source": [
    "# Example of using the vectorstore to get similar documnts\n",
    "docs = vectorstore.similarity_search(\"How to create a time management system?\", k=3)\n",
    "\n",
    "for i, doc in enumerate(docs, 1):\n",
    "    print(f\"Chunk {i}:\")\n",
    "    print([doc.page_content])\n",
    "    print(\"\\n---\\n\")\n",
    "\n"
   ]
  },
  {
   "cell_type": "code",
   "execution_count": null,
   "id": "d7eedd60",
   "metadata": {},
   "outputs": [],
   "source": [
    "# Example of using the vectorstore to search for similar documents\n",
    "docs = vectorstore.similarity_search(\"What is the Secret of Success\", k=3)\n",
    "\n",
    "\n",
    "for i, doc in enumerate(docs, 1):\n",
    "    print(f'Document {i}:')\n",
    "    if doc:\n",
    "        print([doc.page_content])"
   ]
  },
  {
   "cell_type": "code",
   "execution_count": null,
   "metadata": {},
   "outputs": [],
   "source": [
    "from langchain.chains import create_retrieval_chain\n",
    "from langchain.chains.combine_documents import create_stuff_documents_chain\n",
    "from langchain_core.prompts import ChatPromptTemplate\n",
    "\n",
    "system_prompt = (\n",
    "    \"You are an assistant for question-answering tasks.\"\n",
    "    \"Use the following context to answer the question.\"\n",
    "    \"If you don't know the answer, say 'I don't know'.\"\n",
    "    \"If the question is not related to the context, say 'I can't help you with that.'\"\n",
    "    \"\\n\\n\"\n",
    "    \"Context: {context}\"\n",
    ")\n",
    "\n",
    "prompt = ChatPromptTemplate.from_messages(\n",
    "    [\n",
    "        (\"system\", system_prompt),\n",
    "        (\"human\", \"{input}\"),\n",
    "    ]\n",
    ")"
   ]
  },
  {
   "cell_type": "code",
   "execution_count": null,
   "id": "1a5eab6c",
   "metadata": {},
   "outputs": [],
   "source": [
    "retriever = vectorstore.as_retriever()"
   ]
  },
  {
   "cell_type": "code",
   "execution_count": null,
   "id": "dfa42a89",
   "metadata": {},
   "outputs": [],
   "source": [
    "# fetch docs from the retriever\n",
    "def get_context_from_retriever(query):\n",
    "    docs = retriever.invoke(query)\n",
    "    context = \"\\n\\n\".join([doc.page_content for doc in docs])\n",
    "    return context"
   ]
  },
  {
   "cell_type": "code",
   "execution_count": null,
   "id": "d5248ac4",
   "metadata": {},
   "outputs": [],
   "source": [
    "get_context_from_retriever(\"who wrote Eat that Frog?\")"
   ]
  },
  {
   "cell_type": "code",
   "execution_count": null,
   "id": "fd76df97",
   "metadata": {},
   "outputs": [],
   "source": [
    "# Use that context with your prompt\n",
    "from langchain_core.prompts import ChatPromptTemplate"
   ]
  },
  {
   "cell_type": "code",
   "execution_count": null,
   "id": "79e085a8",
   "metadata": {},
   "outputs": [],
   "source": [
    "system_prompt = (\n",
    "    \"You are an assistant for question-answering tasks.\"\n",
    "    \"Use the following context to answer the question.\"\n",
    "    \"If you don't know the answer, say 'I don't know'.\"\n",
    "    \"If the question is not related to the context, say 'I can't help you with that.'\"\n",
    "    \"\\n\\n\"\n",
    "    \"Context: {context}\"\n",
    ")\n",
    "\n",
    "\n",
    "prompt_template = ChatPromptTemplate.from_messages([\n",
    "    (\"system\", system_prompt),\n",
    "    (\"human\", \"{input}\")\n",
    "])"
   ]
  },
  {
   "cell_type": "code",
   "execution_count": null,
   "id": "343a8db3",
   "metadata": {},
   "outputs": [],
   "source": [
    "import openai\n",
    "from dotenv import load_dotenv\n",
    "load_dotenv()\n",
    "import os\n",
    "def get_llm_response(prompt):\n",
    "    client = openai.OpenAI(\n",
    "    api_key=os.getenv(\"OPENROUTER_API_KEY\"),\n",
    "    base_url=\"https://openrouter.ai/api/v1\"\n",
    "    )\n",
    "    response = client.chat.completions.create(\n",
    "        model=\"deepseek/deepseek-chat-v3-0324:free\",\n",
    "        messages=[\n",
    "            {\"role\": \"system\", \"content\": \"You are a helpful movie assistant, which provides movie recommendations and insights in a brief and concise manner.\"},\n",
    "            {\"role\": \"user\", \"content\": prompt}\n",
    "        ],\n",
    "        temperature=0.7\n",
    "    )\n",
    "    return response.choices[0].message.content"
   ]
  },
  {
   "cell_type": "code",
   "execution_count": null,
   "id": "dc8fb8f4",
   "metadata": {},
   "outputs": [],
   "source": [
    "from dotenv import load_dotenv\n",
    "load_dotenv()\n",
    "print(os.getenv(\"OPENROUTER_API_KEY\"))\n"
   ]
  },
  {
   "cell_type": "code",
   "execution_count": null,
   "id": "769a06ee",
   "metadata": {},
   "outputs": [],
   "source": [
    "# Combine Everything\n",
    "def final_response(user_query):\n",
    "    context = get_context_from_retriever(user_query)\n",
    "    formatted_prompt = prompt_template.format_messages(input=user_query, context=context)\n",
    "\n",
    "    # join message content for your LLM API\n",
    "    full_prompt = \"\\n\".join([m.content for m in formatted_prompt])\n",
    "\n",
    "    return get_llm_response(full_prompt)"
   ]
  },
  {
   "cell_type": "code",
   "execution_count": null,
   "id": "89986c4f",
   "metadata": {},
   "outputs": [],
   "source": [
    "response = final_response(\"What does mean by Eat that frog?\")\n",
    "print(response)"
   ]
  },
  {
   "cell_type": "code",
   "execution_count": null,
   "id": "470c05f0",
   "metadata": {},
   "outputs": [],
   "source": [
    "client = openai.OpenAI(\n",
    "    api_key=os.getenv('OPENROUTER_API_KEY'), \n",
    "    base_url=\"https://openrouter.ai/api/v1\"\n",
    ")"
   ]
  },
  {
   "cell_type": "code",
   "execution_count": null,
   "id": "bd46265c",
   "metadata": {},
   "outputs": [],
   "source": [
    "# Continuous chat loop\n",
    "while True:\n",
    "    print(\"\\nYou: \", end=\"\", flush=True)  # Ensure input prompt appears\n",
    "    user_input = input()  # Take user input\n",
    "\n",
    "    if user_input.lower() in [\"exit\", \"quit\"]:  # Exit condition\n",
    "        print(\"Exiting chat. Goodbye!\")\n",
    "        break\n",
    "\n",
    "    # Send request to OpenRouter API\n",
    "    response = client.chat.completions.create(\n",
    "        model=\"google/gemini-2.5-pro-exp-03-25:free\",  # Your chosen model\n",
    "        messages=[\n",
    "            {\"role\": \"system\", \"content\": \"You are a helpful assistant.\"},\n",
    "            {\"role\": \"user\", \"content\": user_input}\n",
    "        ]\n",
    "    )\n",
    "\n",
    "    # Print AI response\n",
    "    print(\"\\nAI:\", response.choices[0].message.content, flush=True)"
   ]
  },
  {
   "cell_type": "code",
   "execution_count": null,
   "id": "541abb8a",
   "metadata": {},
   "outputs": [],
   "source": []
  },
  {
   "cell_type": "code",
   "execution_count": null,
   "id": "53fffd82",
   "metadata": {},
   "outputs": [],
   "source": []
  }
 ],
 "metadata": {
  "kernelspec": {
   "display_name": "test",
   "language": "python",
   "name": "python3"
  },
  "language_info": {
   "codemirror_mode": {
    "name": "ipython",
    "version": 3
   },
   "file_extension": ".py",
   "mimetype": "text/x-python",
   "name": "python",
   "nbconvert_exporter": "python",
   "pygments_lexer": "ipython3",
   "version": "3.10.16"
  }
 },
 "nbformat": 4,
 "nbformat_minor": 5
}
